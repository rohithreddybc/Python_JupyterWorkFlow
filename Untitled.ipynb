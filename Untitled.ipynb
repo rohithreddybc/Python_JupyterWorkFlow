{
 "cells": [
  {
   "cell_type": "code",
   "execution_count": 1,
   "id": "0ca13cf6-6b42-45be-94ca-4ea07fb3d263",
   "metadata": {},
   "outputs": [
    {
     "name": "stdout",
     "output_type": "stream",
     "text": [
      "hello\n"
     ]
    }
   ],
   "source": [
    "print(\"hello\")"
   ]
  },
  {
   "cell_type": "code",
   "execution_count": 13,
   "id": "5669f027-4c08-4817-94e2-84e89b76e159",
   "metadata": {},
   "outputs": [
    {
     "name": "stdout",
     "output_type": "stream",
     "text": [
      "[[1, 3, 5], [2, 4, 6]]\n",
      "[[1, 3, 5], [2, 4, 6]]\n"
     ]
    }
   ],
   "source": [
    "matrix = [ [1,2],\n",
    "           [3,4],\n",
    "           [5,6] ]\n",
    "\n",
    "#transpose of a matrix without list comprehension\n",
    "transposed = []\n",
    "\n",
    "for j in range(2):\n",
    "    lst=[]\n",
    "    for row in matrix:\n",
    "        lst.append(row[j])\n",
    "    transposed.append(lst)\n",
    "\n",
    "#transpose of a matrix with list comprehension\n",
    "transposed2 = [[row[j] for row in matrix] for j in range(2)]\n",
    "    \n",
    "print(transposed);\n",
    "print(transposed2);\n",
    "          "
   ]
  },
  {
   "cell_type": "code",
   "execution_count": 27,
   "id": "0a80c118-ea77-412a-a5f1-20d9bba1c384",
   "metadata": {},
   "outputs": [
    {
     "name": "stdout",
     "output_type": "stream",
     "text": [
      "d\n",
      "[['rohith ', 'rohith ', 'rohith ', 'rohith ', 'rohith ']]\n"
     ]
    }
   ],
   "source": [
    "#list\n",
    "t = ['rohith','reddy','dfewr']\n",
    "\n",
    "print(t[1][2])\n",
    "\n",
    "rp = [['rohith '] * 5]\n",
    "print(rp)  \n"
   ]
  },
  {
   "cell_type": "code",
   "execution_count": 19,
   "id": "d08dc291-2fa9-449a-86bb-e1f237da42b7",
   "metadata": {},
   "outputs": [
    {
     "name": "stdout",
     "output_type": "stream",
     "text": [
      "d\n",
      "rohith rohith rohith rohith rohith \n"
     ]
    }
   ],
   "source": [
    "#tuple\n",
    "\n",
    "t = ('rohith','reddy','dfewr')\n",
    "\n",
    "print(t[1][2])\n",
    "\n",
    "rp = (('rohith ') * 5)\n",
    "print(rp)       "
   ]
  },
  {
   "cell_type": "code",
   "execution_count": 42,
   "id": "c7edbfe7-fff7-4617-9f57-789f0bfec14d",
   "metadata": {},
   "outputs": [
    {
     "name": "stdout",
     "output_type": "stream",
     "text": [
      "{'a': 0, 'b': 0, 'c': 0}\n",
      "{'a': 2, 'b': 1, 'c': 5}\n",
      "{'a': 2, 'c': 5}\n",
      "{'a double': 4, 'c double': 10}\n"
     ]
    }
   ],
   "source": [
    "#dictionary\n",
    "\n",
    "d = {}.fromkeys(['a','b','c'],0)\n",
    "print(d)\n",
    "\n",
    "d['a'] = 2\n",
    "d['b'] = 1\n",
    "d['c'] = 5\n",
    "print(d)\n",
    "\n",
    "newDict = { k:v for k,v in d.items() if v>=2}\n",
    "print(newDict)\n",
    "\n",
    "newDict = {k+ ' double':v*2 for k,v in d.items() if v>=2}\n",
    "print(newDict)"
   ]
  },
  {
   "cell_type": "code",
   "execution_count": 59,
   "id": "bcda0923-9203-4be3-963a-28c001c240f5",
   "metadata": {},
   "outputs": [
    {
     "name": "stdout",
     "output_type": "stream",
     "text": [
      "name is rohith, msg is hi\n",
      "('Rohith', 'reddy', 'sainath')\n",
      "hi Rohith\n",
      "hi reddy\n",
      "hi sainath\n"
     ]
    }
   ],
   "source": [
    "#python functions\n",
    "#keyword arguments\n",
    "\n",
    "def greet(**kwargs):\n",
    "\n",
    "    if kwargs:\n",
    "        print(\"name is {0}, msg is {1}\".format( kwargs['name'], kwargs['msg']))\n",
    "\n",
    "greet(name=\"rohith\",msg=\"hi\")\n",
    "\n",
    "#arbitrary args\n",
    "\n",
    "def greet2(*names):\n",
    "\n",
    "    print(names)\n",
    "    for nam in names:\n",
    "        print(\"hi {0}\".format(nam))\n",
    "\n",
    "greet2(\"Rohith\",\"reddy\",\"sainath\")"
   ]
  },
  {
   "cell_type": "code",
   "execution_count": 62,
   "id": "06d24c09-0777-4a74-8819-8bd8cdcb127f",
   "metadata": {},
   "outputs": [
    {
     "name": "stdout",
     "output_type": "stream",
     "text": [
      "factorial of 5, is 120\n"
     ]
    }
   ],
   "source": [
    "#recursive function\n",
    "\n",
    "\n",
    "def factorial(num):\n",
    "    '''\n",
    "    factorial of number num\n",
    "    '''\n",
    "    return 1 if num == 1 else (num * factorial(num-1))\n",
    "\n",
    "num = 5\n",
    "print(\"factorial of {0}, is {1}\".format(num,factorial(num)))"
   ]
  },
  {
   "cell_type": "code",
   "execution_count": 64,
   "id": "72fa5b9f-7084-4693-9ffd-aa6ecbc32aec",
   "metadata": {},
   "outputs": [
    {
     "name": "stdout",
     "output_type": "stream",
     "text": [
      "10\n",
      "10\n"
     ]
    }
   ],
   "source": [
    "#Lambda functions\n",
    "\n",
    "#normal function\n",
    "def double(x):\n",
    "    return x*2\n",
    "\n",
    "print(double(5))\n",
    "\n",
    "#lambda function for same \n",
    "#doubleL is fuction name, x is paramerter, x*2 is function body\n",
    "doubleL = lambda x:x*2\n",
    "\n",
    "print(doubleL(5))\n",
    "\n"
   ]
  },
  {
   "cell_type": "code",
   "execution_count": 70,
   "id": "9a91d718-696f-4bd6-a7a1-1eea3be9cb54",
   "metadata": {},
   "outputs": [
    {
     "name": "stdout",
     "output_type": "stream",
     "text": [
      "[4, 6]\n"
     ]
    }
   ],
   "source": [
    "#Lambda functions\n",
    "\n",
    "#filter() use example\n",
    "#creates new list\n",
    "#filter() forms a new list that contains only elements that satisfy a certain condition, i.e. the function we passed returns True.\n",
    "#it will be used to filter items from list(true or flase), returns only true items which satisfies condition true\n",
    "\n",
    "lst = [1,3,4,6,7]\n",
    "even_lst = list(filter( lambda x: (x%2 == 0) ,lst))\n",
    "print(even_lst)"
   ]
  },
  {
   "cell_type": "code",
   "execution_count": 73,
   "id": "9a6cbac5-766f-4213-b332-42528f390e9c",
   "metadata": {},
   "outputs": [
    {
     "name": "stdout",
     "output_type": "stream",
     "text": [
      "[1, 9, 16, 36, 49]\n"
     ]
    }
   ],
   "source": [
    "#Lambda functions\n",
    "\n",
    "#map() use example\n",
    "#not true of false, it is used to map items from list\n",
    "#The map() function iterates through all items in the given iterable and executes the function we passed as an argument on each of them.\n",
    "lst = [1,3,4,6,7]\n",
    "square_lst = list(map( lambda x: x**2 ,lst))\n",
    "print(square_lst)"
   ]
  },
  {
   "cell_type": "code",
   "execution_count": null,
   "id": "c4f31eb3-d5fe-4583-82bf-a28077bd39ee",
   "metadata": {},
   "outputs": [],
   "source": [
    "#The reduce() Function\n",
    "reduce() works differently than map() and filter(). It does not return a new list based on the function and iterable we've passed. Instead, it returns a single value.\n",
    "\n",
    "Also, in Python 3 reduce() isn't a built-in function anymore, and it can be found in the functools module.\n",
    "\n",
    "The syntax is:\n",
    "\n",
    "reduce(function, sequence[, initial])\n",
    "reduce() works by calling the function we passed for the first two items in the sequence. The result returned by the function is used in another call to function alongside with the next (third in this case), element.\n",
    "\n",
    "This process repeats until we've gone through all the elements in the sequence.\n",
    "\n",
    "The optional argument initial is used, when present, at the beginning of this \"loop\" with the first element in the first call to function. In a way, the initial element is the 0th element, before the first one, when provided.\n",
    "\n",
    "reduce() is a bit harder to understand than map() and filter(), so let's look at a step by step example:\n",
    "\n",
    "We start with a list [2, 4, 7, 3] and pass the add(x, y) function to reduce() alongside this list, without an initial value\n",
    "\n",
    "reduce() calls add(2, 4), and add() returns 6\n",
    "\n",
    "reduce() calls add(6, 7) (result of the previous call to add() and the next element in the list as parameters), and add() returns 13\n",
    "\n",
    "reduce() calls add(13, 3), and add() returns 16\n",
    "\n",
    "Since no more elements are left in the sequence, reduce() returns 16"
   ]
  },
  {
   "cell_type": "code",
   "execution_count": 79,
   "id": "c6aedaf6-e563-4b99-be37-435ab0ae27f3",
   "metadata": {},
   "outputs": [
    {
     "name": "stdout",
     "output_type": "stream",
     "text": [
      "17\n",
      "[2, 4, 5, 6]\n"
     ]
    }
   ],
   "source": [
    "#Lambda functions\n",
    "\n",
    "from functools import reduce\n",
    "#reduce() use example\n",
    "lst = [2,4,5,6]\n",
    "# add_list = lst(reduce(lambda x,y: x+y,lst)) // reduce won't create new list\n",
    "print(reduce(lambda x,y: x+y,lst))\n",
    "print(lst)\n"
   ]
  },
  {
   "cell_type": "code",
   "execution_count": null,
   "id": "433a9eac-1cb2-48ab-97b3-2c5f7ac32069",
   "metadata": {},
   "outputs": [],
   "source": []
  }
 ],
 "metadata": {
  "kernelspec": {
   "display_name": "Python 3 (ipykernel)",
   "language": "python",
   "name": "python3"
  },
  "language_info": {
   "codemirror_mode": {
    "name": "ipython",
    "version": 3
   },
   "file_extension": ".py",
   "mimetype": "text/x-python",
   "name": "python",
   "nbconvert_exporter": "python",
   "pygments_lexer": "ipython3",
   "version": "3.11.7"
  }
 },
 "nbformat": 4,
 "nbformat_minor": 5
}
